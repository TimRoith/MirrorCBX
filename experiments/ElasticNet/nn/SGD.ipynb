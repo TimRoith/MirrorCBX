{
 "cells": [
  {
   "cell_type": "code",
   "execution_count": 1,
   "id": "670082d6-beef-4f63-97fd-d9335388101a",
   "metadata": {},
   "outputs": [],
   "source": [
    "%load_ext autoreload\n",
    "%autoreload 2\n",
    "\n",
    "import torch\n",
    "import torch.nn as nn\n",
    "from torch.optim import SGD\n",
    "from experiment_setup import MNIST_Experiment"
   ]
  },
  {
   "cell_type": "code",
   "execution_count": 2,
   "id": "b80df48c-f698-484e-a478-97e87acda257",
   "metadata": {},
   "outputs": [],
   "source": [
    "ell = nn.CrossEntropyLoss()\n",
    "device = 'cuda' if torch.cuda.is_available() else 'cpu'"
   ]
  },
  {
   "cell_type": "code",
   "execution_count": null,
   "id": "1f2b816c-fb34-43a2-99fd-05f8a551c7a1",
   "metadata": {
    "scrolled": true
   },
   "outputs": [],
   "source": [
    "epochs  = 40\n",
    "ValAccs = []\n",
    "reps    = 10\n",
    "\n",
    "for rep in range(reps):\n",
    "    conf = MNIST_Experiment('params/mirror.yaml',data_path = \"../../../../datasets/\")\n",
    "    model = conf.model.to(device)\n",
    "    opt = SGD(model.parameters())\n",
    "    for e in range(epochs):\n",
    "        acc = 0\n",
    "        n = 0\n",
    "        for x,y in iter(conf.train_loader):\n",
    "            x,y = x.to(device), y.to(device)\n",
    "            opt.zero_grad()\n",
    "            logit = model(x)\n",
    "            loss = ell(logit, y)\n",
    "            loss.backward()\n",
    "            opt.step()\n",
    "    \n",
    "            acc += (logit.topk(1)[1].squeeze() == y).sum()\n",
    "            n   += y.shape[0]\n",
    "        print('Train Acc: ' +str(acc.item()/n))\n",
    "    \n",
    "    print(30*'<>')\n",
    "    print('Finished run ' + str(rep))\n",
    "    with torch.no_grad():\n",
    "        acc = 0\n",
    "        n = 0\n",
    "        model.eval()\n",
    "        for x,y in iter(conf.test_loader):\n",
    "            x,y = x.to(device), y.to(device)\n",
    "            logit = model(x)\n",
    "            acc += (logit.topk(1)[1].squeeze() == y).sum()\n",
    "            n   += y.shape[0]\n",
    "        print('Val Acc: ' +str(acc.item()/n))\n",
    "        ValAccs.append(acc.item()/n)"
   ]
  },
  {
   "cell_type": "code",
   "execution_count": null,
   "id": "9770437d-d487-4e1f-ab92-c428d7de91fd",
   "metadata": {},
   "outputs": [],
   "source": [
    "print('Mean Acc: ' + str(100 * torch.tensor(ValAccs).mean().item()))"
   ]
  }
 ],
 "metadata": {
  "kernelspec": {
   "display_name": "mirrorcbx (py3.10)",
   "language": "python",
   "name": "mirrorcbx"
  },
  "language_info": {
   "codemirror_mode": {
    "name": "ipython",
    "version": 3
   },
   "file_extension": ".py",
   "mimetype": "text/x-python",
   "name": "python",
   "nbconvert_exporter": "python",
   "pygments_lexer": "ipython3",
   "version": "3.10.15"
  }
 },
 "nbformat": 4,
 "nbformat_minor": 5
}
