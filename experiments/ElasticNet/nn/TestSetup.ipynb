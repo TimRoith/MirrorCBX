{
 "cells": [
  {
   "cell_type": "code",
   "execution_count": 1,
   "id": "991a379d-4572-43e7-9778-f05ad264de60",
   "metadata": {},
   "outputs": [],
   "source": [
    "%load_ext autoreload\n",
    "%autoreload 2\n",
    "from experiment_setup import MNIST_Experiment"
   ]
  },
  {
   "cell_type": "code",
   "execution_count": 2,
   "id": "cfa48eb4-b18c-4d73-acb6-39c6a958d23b",
   "metadata": {},
   "outputs": [],
   "source": [
    "conf = MNIST_Experiment('params/mirror.yaml',data_path = \"../../../../datasets/\")"
   ]
  },
  {
   "cell_type": "code",
   "execution_count": 3,
   "id": "6354ee42-b037-4079-923f-6f1220495217",
   "metadata": {
    "scrolled": true
   },
   "outputs": [
    {
     "name": "stdout",
     "output_type": "stream",
     "text": [
      "<><><><><><><><><><><><><><><><><><><><><><><><><><><><><><>\n",
      "Epoch: 1\n",
      "Accuracy: 0.30239999294281006\n",
      "Sparsity: 0.8684879541397095\n",
      "============================================================\n",
      "<><><><><><><><><><><><><><><><><><><><><><><><><><><><><><>\n",
      "Epoch: 2\n",
      "Accuracy: 0.3675999939441681\n",
      "Sparsity: 0.8790343403816223\n",
      "============================================================\n",
      "<><><><><><><><><><><><><><><><><><><><><><><><><><><><><><>\n",
      "Epoch: 3\n",
      "Accuracy: 0.4715999960899353\n",
      "Sparsity: 0.8651842474937439\n",
      "============================================================\n",
      "<><><><><><><><><><><><><><><><><><><><><><><><><><><><><><>\n",
      "Epoch: 4\n",
      "Accuracy: 0.6315000057220459\n",
      "Sparsity: 0.8562897443771362\n",
      "============================================================\n",
      "<><><><><><><><><><><><><><><><><><><><><><><><><><><><><><>\n",
      "Epoch: 5\n",
      "Accuracy: 0.6805999875068665\n",
      "Sparsity: 0.8506988883018494\n",
      "============================================================\n",
      "<><><><><><><><><><><><><><><><><><><><><><><><><><><><><><>\n",
      "Epoch: 6\n",
      "Accuracy: 0.731499969959259\n",
      "Sparsity: 0.844091534614563\n",
      "============================================================\n",
      "<><><><><><><><><><><><><><><><><><><><><><><><><><><><><><>\n",
      "Epoch: 7\n",
      "Accuracy: 0.7275999784469604\n",
      "Sparsity: 0.8414231538772583\n",
      "============================================================\n",
      "<><><><><><><><><><><><><><><><><><><><><><><><><><><><><><>\n",
      "Epoch: 8\n",
      "Accuracy: 0.7586999535560608\n",
      "Sparsity: 0.843329131603241\n",
      "============================================================\n",
      "<><><><><><><><><><><><><><><><><><><><><><><><><><><><><><>\n",
      "Epoch: 9\n",
      "Accuracy: 0.7644000053405762\n",
      "Sparsity: 0.834180474281311\n",
      "============================================================\n",
      "<><><><><><><><><><><><><><><><><><><><><><><><><><><><><><>\n",
      "Epoch: 10\n",
      "Accuracy: 0.7960999608039856\n",
      "Sparsity: 0.8329098224639893\n",
      "============================================================\n",
      "<><><><><><><><><><><><><><><><><><><><><><><><><><><><><><>\n",
      "Epoch: 11\n",
      "Accuracy: 0.7960999608039856\n",
      "Sparsity: 0.8329098224639893\n",
      "============================================================\n",
      "<><><><><><><><><><><><><><><><><><><><><><><><><><><><><><>\n",
      "Epoch: 12\n",
      "Accuracy: 0.8033999800682068\n",
      "Sparsity: 0.8188056349754333\n",
      "============================================================\n",
      "<><><><><><><><><><><><><><><><><><><><><><><><><><><><><><>\n",
      "Epoch: 13\n",
      "Accuracy: 0.8137999773025513\n",
      "Sparsity: 0.8074968457221985\n",
      "============================================================\n",
      "<><><><><><><><><><><><><><><><><><><><><><><><><><><><><><>\n",
      "Epoch: 14\n",
      "Accuracy: 0.8247999548912048\n",
      "Sparsity: 0.8118170499801636\n",
      "============================================================\n",
      "<><><><><><><><><><><><><><><><><><><><><><><><><><><><><><>\n",
      "Epoch: 15\n",
      "Accuracy: 0.8247999548912048\n",
      "Sparsity: 0.8118170499801636\n",
      "============================================================\n",
      "<><><><><><><><><><><><><><><><><><><><><><><><><><><><><><>\n",
      "Epoch: 16\n",
      "Accuracy: 0.8247999548912048\n",
      "Sparsity: 0.8118170499801636\n",
      "============================================================\n",
      "<><><><><><><><><><><><><><><><><><><><><><><><><><><><><><>\n",
      "Epoch: 17\n",
      "Accuracy: 0.8319999575614929\n",
      "Sparsity: 0.785133421421051\n",
      "============================================================\n",
      "<><><><><><><><><><><><><><><><><><><><><><><><><><><><><><>\n",
      "Epoch: 18\n",
      "Accuracy: 0.847599983215332\n",
      "Sparsity: 0.787293553352356\n",
      "============================================================\n",
      "<><><><><><><><><><><><><><><><><><><><><><><><><><><><><><>\n",
      "Epoch: 19\n",
      "Accuracy: 0.847599983215332\n",
      "Sparsity: 0.787293553352356\n",
      "============================================================\n",
      "<><><><><><><><><><><><><><><><><><><><><><><><><><><><><><>\n",
      "Epoch: 20\n",
      "Accuracy: 0.850600004196167\n",
      "Sparsity: 0.7717916369438171\n",
      "============================================================\n",
      "<><><><><><><><><><><><><><><><><><><><><><><><><><><><><><>\n",
      "Epoch: 21\n",
      "Accuracy: 0.850600004196167\n",
      "Sparsity: 0.7717916369438171\n",
      "============================================================\n",
      "<><><><><><><><><><><><><><><><><><><><><><><><><><><><><><>\n",
      "Epoch: 22\n",
      "Accuracy: 0.850600004196167\n",
      "Sparsity: 0.7717916369438171\n",
      "============================================================\n",
      "<><><><><><><><><><><><><><><><><><><><><><><><><><><><><><>\n",
      "Epoch: 23\n",
      "Accuracy: 0.850600004196167\n",
      "Sparsity: 0.7717916369438171\n",
      "============================================================\n",
      "<><><><><><><><><><><><><><><><><><><><><><><><><><><><><><>\n",
      "Epoch: 24\n",
      "Accuracy: 0.850600004196167\n",
      "Sparsity: 0.7717916369438171\n",
      "============================================================\n",
      "<><><><><><><><><><><><><><><><><><><><><><><><><><><><><><>\n",
      "Epoch: 25\n",
      "Accuracy: 0.850600004196167\n",
      "Sparsity: 0.7717916369438171\n",
      "============================================================\n",
      "<><><><><><><><><><><><><><><><><><><><><><><><><><><><><><>\n",
      "Epoch: 26\n",
      "Accuracy: 0.850600004196167\n",
      "Sparsity: 0.7717916369438171\n",
      "============================================================\n",
      "<><><><><><><><><><><><><><><><><><><><><><><><><><><><><><>\n",
      "Epoch: 27\n",
      "Accuracy: 0.850600004196167\n",
      "Sparsity: 0.7717916369438171\n",
      "============================================================\n",
      "<><><><><><><><><><><><><><><><><><><><><><><><><><><><><><>\n",
      "Epoch: 28\n",
      "Accuracy: 0.8586999773979187\n",
      "Sparsity: 0.7388818264007568\n",
      "============================================================\n",
      "<><><><><><><><><><><><><><><><><><><><><><><><><><><><><><>\n",
      "Epoch: 29\n",
      "Accuracy: 0.8586999773979187\n",
      "Sparsity: 0.7388818264007568\n",
      "============================================================\n",
      "<><><><><><><><><><><><><><><><><><><><><><><><><><><><><><>\n",
      "Epoch: 30\n",
      "Accuracy: 0.8586999773979187\n",
      "Sparsity: 0.7388818264007568\n",
      "============================================================\n",
      "<><><><><><><><><><><><><><><><><><><><><><><><><><><><><><>\n",
      "Epoch: 31\n",
      "Accuracy: 0.8646000027656555\n",
      "Sparsity: 0.7236340641975403\n",
      "============================================================\n",
      "<><><><><><><><><><><><><><><><><><><><><><><><><><><><><><>\n",
      "Epoch: 32\n",
      "Accuracy: 0.8596999645233154\n",
      "Sparsity: 0.7207115888595581\n",
      "============================================================\n",
      "<><><><><><><><><><><><><><><><><><><><><><><><><><><><><><>\n",
      "Epoch: 33\n",
      "Accuracy: 0.8596999645233154\n",
      "Sparsity: 0.7207115888595581\n",
      "============================================================\n",
      "<><><><><><><><><><><><><><><><><><><><><><><><><><><><><><>\n",
      "Epoch: 34\n",
      "Accuracy: 0.8637999892234802\n",
      "Sparsity: 0.7147395610809326\n",
      "============================================================\n",
      "<><><><><><><><><><><><><><><><><><><><><><><><><><><><><><>\n",
      "Epoch: 35\n",
      "Accuracy: 0.8637999892234802\n",
      "Sparsity: 0.7147395610809326\n",
      "============================================================\n",
      "<><><><><><><><><><><><><><><><><><><><><><><><><><><><><><>\n",
      "Epoch: 36\n",
      "Accuracy: 0.8682000041007996\n",
      "Sparsity: 0.7088945508003235\n",
      "============================================================\n",
      "<><><><><><><><><><><><><><><><><><><><><><><><><><><><><><>\n",
      "Epoch: 37\n",
      "Accuracy: 0.8682000041007996\n",
      "Sparsity: 0.7088945508003235\n",
      "============================================================\n",
      "<><><><><><><><><><><><><><><><><><><><><><><><><><><><><><>\n",
      "Epoch: 38\n",
      "Accuracy: 0.8682000041007996\n",
      "Sparsity: 0.7088945508003235\n",
      "============================================================\n",
      "<><><><><><><><><><><><><><><><><><><><><><><><><><><><><><>\n",
      "Epoch: 39\n",
      "Accuracy: 0.8682000041007996\n",
      "Sparsity: 0.7088945508003235\n",
      "============================================================\n",
      "<><><><><><><><><><><><><><><><><><><><><><><><><><><><><><>\n",
      "Epoch: 40\n",
      "Accuracy: 0.8682000041007996\n",
      "Sparsity: 0.7088945508003235\n",
      "============================================================\n"
     ]
    }
   ],
   "source": [
    "f = conf.get_objective()\n",
    "x = conf.init_x()\n",
    "\n",
    "dyn = conf.dyn_cls(f, x=x, **conf.dyn_kwargs)\n",
    "sched = conf.get_scheduler()\n",
    "dyn.optimize(sched=sched)"
   ]
  },
  {
   "cell_type": "code",
   "execution_count": 4,
   "id": "b328abd0-714c-484e-a21d-1005e8cbebbe",
   "metadata": {},
   "outputs": [
    {
     "data": {
      "text/plain": [
       "37520"
      ]
     },
     "execution_count": 4,
     "metadata": {},
     "output_type": "execute_result"
    }
   ],
   "source": [
    "dyn.it"
   ]
  },
  {
   "cell_type": "code",
   "execution_count": 5,
   "id": "ac47fb00-29c3-41e3-b94c-c939e067dc85",
   "metadata": {},
   "outputs": [
    {
     "name": "stdout",
     "output_type": "stream",
     "text": [
      "Sparsity: 0.70889455\n",
      "Accuracy: 0.8682\n"
     ]
    }
   ],
   "source": [
    "conf.evaluate_dynamic(dyn)"
   ]
  },
  {
   "cell_type": "code",
   "execution_count": 6,
   "id": "93a632a3-a1de-453c-952c-2e8fa2b88ce4",
   "metadata": {},
   "outputs": [],
   "source": [
    "w = dyn.best_particle[0,:]\n",
    "W = w[:28*28*10].reshape(10,28*28)"
   ]
  },
  {
   "cell_type": "code",
   "execution_count": 7,
   "id": "4d27c4bd-25e8-4d2d-b1eb-6b15f02d328e",
   "metadata": {},
   "outputs": [],
   "source": [
    "model = dyn.f.model"
   ]
  },
  {
   "cell_type": "code",
   "execution_count": 8,
   "id": "85594713-3cf5-4261-88b6-d3e857487a4a",
   "metadata": {},
   "outputs": [],
   "source": [
    "model.linears[0].weight.data = w[:28*28*10].reshape(10,28*28)\n",
    "model.linears[0].bias.data = w[28*28*10:(28*28*10+10)]"
   ]
  },
  {
   "cell_type": "code",
   "execution_count": 9,
   "id": "e86d612a-bd47-4219-aa54-64347e1d4cf2",
   "metadata": {},
   "outputs": [],
   "source": [
    "model.bns[0].weight.data = w[(28*28*10+10):(28*28*10+20)]\n",
    "model.bns[0].bias.data = w[(28*28*10+20):(28*28*10+30)]"
   ]
  },
  {
   "cell_type": "code",
   "execution_count": 10,
   "id": "1f6cf087-aa5a-447f-921e-1cb2ef83bade",
   "metadata": {},
   "outputs": [],
   "source": [
    "x,y = next(iter(conf.test_loader))"
   ]
  },
  {
   "cell_type": "code",
   "execution_count": 11,
   "id": "07b620a1-111d-490d-9f74-e40343eb0de6",
   "metadata": {},
   "outputs": [
    {
     "data": {
      "text/plain": [
       "tensor([ 0,  0,  0,  0,  0,  0,  0,  0,  1,  0,  0,  0,  0,  0,  0,  0,  0,  0,\n",
       "         5,  0,  0,  0,  0,  0,  0,  0,  0,  0,  0,  0,  0,  0,  0,  2,  0,  0,\n",
       "         0,  0,  6,  0,  0,  0,  0,  0,  0,  0,  0,  0,  0,  0,  0,  0,  0,  0,\n",
       "         0,  0,  0,  0,  0,  0,  0, -6,  0,  0], device='cuda:0')"
      ]
     },
     "execution_count": 11,
     "metadata": {},
     "output_type": "execute_result"
    }
   ],
   "source": [
    "model(x.cuda()).topk(1)[1][:,0] - y.cuda()"
   ]
  },
  {
   "cell_type": "code",
   "execution_count": 12,
   "id": "b93dc807-eccf-47f3-a90e-4b59d4ca358c",
   "metadata": {},
   "outputs": [
    {
     "data": {
      "text/plain": [
       "tensor([7, 2, 1, 0, 4, 1, 4, 9, 5, 9, 0, 6, 9, 0, 1, 5, 9, 7, 3, 4, 9, 6, 6, 5,\n",
       "        4, 0, 7, 4, 0, 1, 3, 1, 3, 4, 7, 2, 7, 1, 2, 1, 1, 7, 4, 2, 3, 5, 1, 2,\n",
       "        4, 4, 6, 3, 5, 5, 6, 0, 4, 1, 9, 5, 7, 8, 9, 3])"
      ]
     },
     "execution_count": 12,
     "metadata": {},
     "output_type": "execute_result"
    }
   ],
   "source": [
    "y"
   ]
  },
  {
   "cell_type": "code",
   "execution_count": 13,
   "id": "5cf5ba5c-08e6-4a8e-a1b2-169581519929",
   "metadata": {},
   "outputs": [],
   "source": [
    "dyn = conf.dyn_cls(f, x=x, **conf.dyn_kwargs)"
   ]
  },
  {
   "cell_type": "code",
   "execution_count": 14,
   "id": "9a8eb460-cd97-4dbd-9266-ba9a0b9d2aab",
   "metadata": {},
   "outputs": [
    {
     "data": {
      "text/plain": [
       "tensor(5579, device='cuda:0')"
      ]
     },
     "execution_count": 14,
     "metadata": {},
     "output_type": "execute_result"
    }
   ],
   "source": [
    "(w==0).sum()"
   ]
  },
  {
   "cell_type": "code",
   "execution_count": 15,
   "id": "16ea9e89-12da-4d92-9a16-06483ba7972c",
   "metadata": {},
   "outputs": [
    {
     "data": {
      "image/png": "[encoded data removed]",
      "text/plain": [
       "<Figure size 1500x500 with 11 Axes>"
      ]
     },
     "metadata": {},
     "output_type": "display_data"
    }
   ],
   "source": [
    "import matplotlib.pyplot as plt\n",
    "import scienceplots\n",
    "plt.style.use(['science'])\n",
    "fig, ax = plt.subplots(2,5, figsize=(15,5))\n",
    "ax  = ax.ravel()\n",
    "ds = conf.train_loader.dataset\n",
    "for i in range(10):\n",
    "    mean = 0.1*((ds.data[conf.train_loader.dataset.targets == i])/255.).mean(dim=0)\n",
    "    im = ax[i].imshow(W[i,:].reshape(28,28).cpu() + mean, vmin=-0.9, vmax=.9, cmap='seismic')\n",
    "    ax[i].set_title('Class: ' + str(i))\n",
    "#fig.subplots_adjust(right=0.9)\n",
    "#cbar_ax = fig.add_axes([0.95, 0.05, 0.05, 0.7])\n",
    "fig.colorbar(im, ax=ax.tolist())\n",
    "#plt.tight_layout(pad=0)\n",
    "plt.savefig('results/act_map.png', dpi=600)"
   ]
  },
  {
   "cell_type": "code",
   "execution_count": null,
   "id": "e7b6b5d4-cb0e-44ed-ad93-7f381ae919e1",
   "metadata": {},
   "outputs": [],
   "source": []
  },
  {
   "cell_type": "code",
   "execution_count": null,
   "id": "1a2f96b1-13eb-4c55-9c19-d8e053ff555e",
   "metadata": {},
   "outputs": [],
   "source": []
  }
 ],
 "metadata": {
  "kernelspec": {
   "display_name": "mirrorcbx (py3.10)",
   "language": "python",
   "name": "mirrorcbx"
  },
  "language_info": {
   "codemirror_mode": {
    "name": "ipython",
    "version": 3
   },
   "file_extension": ".py",
   "mimetype": "text/x-python",
   "name": "python",
   "nbconvert_exporter": "python",
   "pygments_lexer": "ipython3",
   "version": "3.10.15"
  }
 },
 "nbformat": 4,
 "nbformat_minor": 5
}
