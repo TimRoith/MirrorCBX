{
 "cells": [
  {
   "cell_type": "code",
   "execution_count": 1,
   "id": "04b7919f-cf8c-426b-906a-f8564fc51da7",
   "metadata": {},
   "outputs": [],
   "source": [
    "%load_ext autoreload\n",
    "%autoreload 2\n",
    "from experiment_setup import PhaseRetrieval_Experiment"
   ]
  },
  {
   "cell_type": "code",
   "execution_count": 2,
   "id": "1ed59e3a-aeac-4e84-a167-46b89a477f12",
   "metadata": {},
   "outputs": [
    {
     "name": "stdout",
     "output_type": "stream",
     "text": [
      "Problem with d: 32, frame vectors: 128, noise: 0.0\n"
     ]
    }
   ],
   "source": [
    "pre = 'params/cbo_phase_noise'\n",
    "pre = 'params/Wirtinger_noise'\n",
    "#pre = 'params/sphere_phase_no_noise'\n",
    "\n",
    "conf = PhaseRetrieval_Experiment(pre + '.yaml')\n",
    "#conf.set_sweep()\n",
    "\n",
    "xin = conf.init_x()\n",
    "dyn = conf.dyn_cls(conf.get_objective(), x = xin, **conf.dyn_kwargs)"
   ]
  },
  {
   "cell_type": "markdown",
   "id": "9ee75073-742f-49d0-bb9e-c8a662a04251",
   "metadata": {},
   "source": [
    "## Run optimization"
   ]
  },
  {
   "cell_type": "code",
   "execution_count": 3,
   "id": "c4b9eb7e-b5bc-4ed2-9bb4-2f2e98977b2a",
   "metadata": {
    "scrolled": true
   },
   "outputs": [
    {
     "name": "stdout",
     "output_type": "stream",
     "text": [
      "174.61120001234747\n",
      "82.08996426684999\n",
      "82.07189204960461\n",
      "82.06534882113618\n",
      "82.06296445134396\n",
      "82.06212578781776\n",
      "82.06183959185634\n",
      "82.06174388893633\n",
      "82.06171228513877\n",
      "82.06170192630537\n",
      "82.06169854573625\n",
      "82.06169744527222\n",
      "82.06169708755942\n",
      "82.06169697137868\n",
      "82.06169693366239\n",
      "82.06169692142166\n",
      "82.06169691744961\n",
      "82.06169691616077\n",
      "82.06169691574263\n",
      "82.06169691560694\n",
      "82.06169691556293\n",
      "82.06169691554867\n",
      "82.06169691554402\n",
      "82.06169691554257\n",
      "82.06169691554207\n",
      "82.0616969155419\n",
      "82.06169691554183\n",
      "82.06169691554182\n",
      "82.0616969155418\n",
      "82.0616969155418\n",
      "82.0616969155418\n",
      "82.0616969155418\n",
      "82.0616969155418\n",
      "82.06169691554177\n",
      "82.0616969155418\n",
      "82.06169691554179\n",
      "82.06169691554177\n",
      "82.06169691554179\n",
      "82.06169691554179\n",
      "82.06169691554179\n",
      "82.06169691554177\n",
      "82.06169691554179\n",
      "82.0616969155418\n",
      "82.0616969155418\n",
      "82.0616969155418\n",
      "82.06169691554179\n",
      "82.0616969155418\n",
      "82.0616969155418\n",
      "82.0616969155418\n",
      "82.06169691554179\n",
      "82.0616969155418\n",
      "82.06169691554177\n",
      "82.0616969155418\n",
      "82.06169691554179\n",
      "82.0616969155418\n",
      "82.0616969155418\n",
      "82.06169691554177\n",
      "82.0616969155418\n",
      "82.0616969155418\n",
      "82.06169691554179\n",
      "82.0616969155418\n",
      "82.06169691554177\n",
      "82.0616969155418\n",
      "82.06169691554179\n",
      "82.06169691554177\n",
      "82.06169691554179\n",
      "82.06169691554177\n",
      "82.06169691554179\n",
      "82.06169691554179\n",
      "82.06169691554177\n",
      "82.06169691554179\n",
      "82.0616969155418\n",
      "82.06169691554179\n",
      "82.06169691554177\n",
      "82.06169691554177\n",
      "82.06169691554179\n",
      "82.06169691554179\n",
      "82.06169691554179\n",
      "82.06169691554179\n",
      "82.06169691554179\n",
      "82.06169691554179\n",
      "82.06169691554179\n",
      "82.06169691554179\n",
      "82.06169691554179\n",
      "82.06169691554179\n",
      "82.06169691554179\n",
      "82.06169691554179\n",
      "82.06169691554179\n",
      "82.06169691554179\n",
      "82.06169691554179\n",
      "82.06169691554179\n",
      "82.06169691554179\n",
      "82.06169691554179\n",
      "82.06169691554179\n",
      "82.06169691554179\n",
      "82.06169691554179\n",
      "82.06169691554179\n",
      "82.06169691554179\n",
      "82.06169691554179\n",
      "82.06169691554179\n"
     ]
    },
    {
     "data": {
      "text/plain": [
       "array([ 0.0303653 ,  0.51806206, -1.32155448,  0.151006  ,  1.0503663 ,\n",
       "        0.58574297,  1.30269148,  0.00485232, -1.34403159, -0.36833124,\n",
       "        0.33804027, -0.028572  ,  1.09061286,  1.00960107, -1.69189392,\n",
       "        0.63380734,  0.09784282,  0.6633258 , -1.36966938, -0.67946502,\n",
       "        0.31265202,  1.59512428,  0.28440822, -0.06824434,  0.74270507,\n",
       "        0.20050171, -0.28029233, -1.50871812,  0.31428159,  1.25423143,\n",
       "        0.50603439, -2.52613702])"
      ]
     },
     "execution_count": 3,
     "metadata": {},
     "output_type": "execute_result"
    }
   ],
   "source": [
    "dyn.optimize(print_int=100, sched=conf.get_scheduler())"
   ]
  },
  {
   "cell_type": "code",
   "execution_count": 4,
   "id": "4f347528-d62d-4c96-9a61-84c067e2aa1a",
   "metadata": {},
   "outputs": [
    {
     "name": "stdout",
     "output_type": "stream",
     "text": [
      "Success rate: 0.0\n"
     ]
    }
   ],
   "source": [
    "ev = conf.evaluate_dynamic(dyn)"
   ]
  },
  {
   "cell_type": "code",
   "execution_count": 5,
   "id": "baa2ab2f-776a-49c3-867a-213f61256273",
   "metadata": {},
   "outputs": [
    {
     "data": {
      "text/plain": [
       "0.05"
      ]
     },
     "execution_count": 5,
     "metadata": {},
     "output_type": "execute_result"
    }
   ],
   "source": [
    "getattr(conf.config.success, 'tol', 0.1)"
   ]
  },
  {
   "cell_type": "code",
   "execution_count": 6,
   "id": "f81fe660-e567-4ea4-bdde-ebdc0bead2d4",
   "metadata": {},
   "outputs": [],
   "source": [
    "sched = conf.get_scheduler()"
   ]
  },
  {
   "cell_type": "code",
   "execution_count": 10,
   "id": "4aac7b53-cca4-4597-9151-a277c446c8b8",
   "metadata": {},
   "outputs": [],
   "source": [
    "self = dyn"
   ]
  },
  {
   "cell_type": "code",
   "execution_count": 17,
   "id": "5c0f00b2-425a-4b0a-8bc0-340be695fc98",
   "metadata": {},
   "outputs": [],
   "source": [
    "g = (\n",
    "    ((self.f @ self.consensus)**2 - self.y)[:, None] * \n",
    "    ((self.f[:,None,:] * self.f[...,None])@self.consensus)\n",
    "    )"
   ]
  },
  {
   "cell_type": "code",
   "execution_count": 38,
   "id": "b121e925-3a24-4ae4-a7ab-7d214de0e7f5",
   "metadata": {},
   "outputs": [],
   "source": [
    "d = dyn.f.shape[-1]\n",
    "X = dyn.f\n",
    "S = np.zeros((d,d))\n",
    "for i in range(d):\n",
    "    S[:, i] = np.sum(X.T @ np.diag(X[:,i]), axis=-1)"
   ]
  },
  {
   "cell_type": "code",
   "execution_count": 39,
   "id": "c9277dcf-5198-4001-a2ae-10d159f31938",
   "metadata": {},
   "outputs": [
    {
     "name": "stdout",
     "output_type": "stream",
     "text": [
      "1.2330250402407457\n"
     ]
    }
   ],
   "source": [
    "l, v = np.linalg.eig(S)\n",
    "print(np.min(l))"
   ]
  },
  {
   "cell_type": "code",
   "execution_count": 43,
   "id": "da17fdba-2b7a-4470-b1f3-904f00d480fa",
   "metadata": {},
   "outputs": [
    {
     "name": "stdout",
     "output_type": "stream",
     "text": [
      "1.2330250402407463\n"
     ]
    }
   ],
   "source": [
    "u,s,v = np.linalg.svd(X)\n",
    "print(np.min(s)**2)"
   ]
  },
  {
   "cell_type": "code",
   "execution_count": 8,
   "id": "bbfa623c-e250-4db3-93f6-a2291e48e502",
   "metadata": {},
   "outputs": [
    {
     "data": {
      "text/plain": [
       "np.float64(2.659422319743732)"
      ]
     },
     "execution_count": 8,
     "metadata": {},
     "output_type": "execute_result"
    }
   ],
   "source": [
    "(dyn.consensus + conf.get_minimizer()).max()"
   ]
  }
 ],
 "metadata": {
  "kernelspec": {
   "display_name": "mirrorcbx (py3.10)",
   "language": "python",
   "name": "mirrorcbx"
  },
  "language_info": {
   "codemirror_mode": {
    "name": "ipython",
    "version": 3
   },
   "file_extension": ".py",
   "mimetype": "text/x-python",
   "name": "python",
   "nbconvert_exporter": "python",
   "pygments_lexer": "ipython3",
   "version": "3.10.15"
  }
 },
 "nbformat": 4,
 "nbformat_minor": 5
}
